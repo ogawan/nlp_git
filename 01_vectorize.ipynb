{
 "cells": [
  {
   "cell_type": "code",
   "execution_count": 1,
   "metadata": {},
   "outputs": [],
   "source": [
    "import numpy as np\n",
    "import pandas as pd\n",
    "import os\n",
    "import requests\n",
    "import nltk"
   ]
  },
  {
   "cell_type": "code",
   "execution_count": 2,
   "metadata": {},
   "outputs": [],
   "source": [
    "if not os.path.exists('moby_dick.txt'):\n",
    "  print(\"Downloading moby dick...\")\n",
    "  r = requests.get('https://lazyprogrammer.me/course_files/moby_dick.txt')\n",
    "  with open('moby_dick.txt', 'w') as f:\n",
    "    f.write(r.content.decode())"
   ]
  },
  {
   "cell_type": "code",
   "execution_count": 3,
   "metadata": {},
   "outputs": [
    {
     "name": "stdout",
     "output_type": "stream",
     "text": [
      "15\n",
      "['of', 'the', 'world.', 'It', 'is', 'a', 'way', 'I', 'have', 'of', 'driving', 'off', 'the', 'spleen', 'and']\n",
      "['leaning', 'against', 'the', 'spiles;', 'some', 'seated', 'upon', 'the', 'pier-heads;', 'some']\n",
      "[[0 0 0 0 0 0 0 0 0 0 0]\n",
      " [0 0 0 0 0 0 0 0 0 0 0]\n",
      " [0 0 0 0 0 0 0 0 0 1 0]\n",
      " [0 0 0 0 0 0 0 0 0 0 0]\n",
      " [0 0 0 0 0 0 0 0 0 0 0]\n",
      " [0 0 0 0 0 0 0 0 0 0 0]\n",
      " [0 0 0 0 0 0 0 0 0 0 0]\n",
      " [0 0 0 0 0 0 0 0 0 1 0]\n",
      " [0 0 0 0 0 0 0 0 0 0 0]\n",
      " [0 0 0 0 0 0 0 0 0 0 0]]\n",
      "[0 0 0 0 0 0 0 0 0 1 0]\n",
      "and 0\n",
      "deliberately 0\n",
      "from 0\n",
      "into 0\n",
      "me 0\n",
      "prevent 0\n",
      "principle 0\n",
      "stepping 0\n",
      "street 0\n",
      "the 0\n",
      "to 0\n"
     ]
    }
   ],
   "source": [
    "para = []\n",
    "for line in open('moby_dick.txt'):\n",
    "    line = line.rstrip()\n",
    "    para.append(line)\n",
    "\n",
    "from sklearn.feature_extraction.text import CountVectorizer \n",
    "from sklearn.feature_extraction.text import TfidfVectorizer\n",
    "\n",
    "print(len(para[5].split()))\n",
    "print(para[5].split())\n",
    "\n",
    "count_vec = CountVectorizer()\n",
    "x_train_counts = count_vec.fit(para[11].split())\n",
    "\n",
    "s = count_vec.transform(para[30].split())\n",
    "\n",
    "count_vec.get_feature_names()\n",
    "len(count_vec.get_feature_names())\n",
    "print(para[30].split())\n",
    "vector = s.toarray()\n",
    "print(vector)\n",
    "print(vector[2, :])\n",
    "\n",
    "for word,count in zip(count_vec.get_feature_names()[:], vector[0, :]):\n",
    "    print(word, count)"
   ]
  },
  {
   "cell_type": "code",
   "execution_count": 8,
   "metadata": {},
   "outputs": [
    {
     "data": {
      "text/html": [
       "<div>\n",
       "<style scoped>\n",
       "    .dataframe tbody tr th:only-of-type {\n",
       "        vertical-align: middle;\n",
       "    }\n",
       "\n",
       "    .dataframe tbody tr th {\n",
       "        vertical-align: top;\n",
       "    }\n",
       "\n",
       "    .dataframe thead th {\n",
       "        text-align: right;\n",
       "    }\n",
       "</style>\n",
       "<table border=\"1\" class=\"dataframe\">\n",
       "  <thead>\n",
       "    <tr style=\"text-align: right;\">\n",
       "      <th></th>\n",
       "      <th>fruit</th>\n",
       "    </tr>\n",
       "  </thead>\n",
       "  <tbody>\n",
       "    <tr>\n",
       "      <th>0</th>\n",
       "      <td>1</td>\n",
       "    </tr>\n",
       "    <tr>\n",
       "      <th>1</th>\n",
       "      <td>0</td>\n",
       "    </tr>\n",
       "    <tr>\n",
       "      <th>2</th>\n",
       "      <td>0</td>\n",
       "    </tr>\n",
       "    <tr>\n",
       "      <th>3</th>\n",
       "      <td>1</td>\n",
       "    </tr>\n",
       "    <tr>\n",
       "      <th>4</th>\n",
       "      <td>2</td>\n",
       "    </tr>\n",
       "  </tbody>\n",
       "</table>\n",
       "</div>"
      ],
      "text/plain": [
       "   fruit\n",
       "0      1\n",
       "1      0\n",
       "2      0\n",
       "3      1\n",
       "4      2"
      ]
     },
     "execution_count": 8,
     "metadata": {},
     "output_type": "execute_result"
    }
   ],
   "source": [
    "#convert string to integer for training\n",
    "def convert_string_to_integer(p_list = [\"apple\", \"orange\", \"peach\", \"orange\"]):\n",
    "    \n",
    "    dic = {}\n",
    "    num = 0\n",
    "    box = []\n",
    "\n",
    "    for i in p_list:\n",
    "\n",
    "        if i not in box:\n",
    "            dic[i] = num\n",
    "        box.append(i)\n",
    "        num += 1\n",
    "        \n",
    "    return dic\n",
    "\n",
    "dic = convert_string_to_integer()\n",
    "\n",
    "df = pd.DataFrame({\"fruit\":[\"orange\", \"apple\", \"apple\", \"orange\", \"peach\"]})\n",
    "\n",
    "df[\"fruit\"] = [dic[x] for x in df.fruit]\n",
    "df"
   ]
  }
 ],
 "metadata": {
  "kernelspec": {
   "display_name": "Python 3",
   "language": "python",
   "name": "python3"
  },
  "language_info": {
   "codemirror_mode": {
    "name": "ipython",
    "version": 3
   },
   "file_extension": ".py",
   "mimetype": "text/x-python",
   "name": "python",
   "nbconvert_exporter": "python",
   "pygments_lexer": "ipython3",
   "version": "3.7.6"
  }
 },
 "nbformat": 4,
 "nbformat_minor": 4
}
